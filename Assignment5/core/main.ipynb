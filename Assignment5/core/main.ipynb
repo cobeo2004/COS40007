{
 "cells": [
  {
   "cell_type": "code",
   "execution_count": 1,
   "metadata": {},
   "outputs": [],
   "source": [
    "import os\n",
    "from utils.file import get_all_files_in_dir_with_format, check_folder_exists_or_file_exists, copy_folder, create_file\n",
    "from utils.spliter import split_dataset\n",
    "from utils.converter import convert_to_yolo\n",
    "from utils.yolo import create_yolo_yaml_config, YOLOYamlConfig"
   ]
  },
  {
   "cell_type": "code",
   "execution_count": 2,
   "metadata": {},
   "outputs": [],
   "source": [
    "BASE_PATH = os.getcwd()\n",
    "ORIGINAL_DATA_PATH = os.path.join(os.path.dirname(BASE_PATH), 'data/original')\n",
    "ORIGINAL_ANNOTATIONS_PATH = os.path.join(ORIGINAL_DATA_PATH, 'Bounding_boxes')\n",
    "ORIGINAL_IMAGES_PATH = os.path.join(ORIGINAL_DATA_PATH, 'images')\n",
    "OUTPUT_DIR = os.path.join(ORIGINAL_DATA_PATH, 'yolo_annotations')\n",
    "\n",
    "CONVERTED_DATA_PATH = os.path.join(os.path.dirname(BASE_PATH), 'data/converted')\n",
    "CONVERTED_ANNOTATIONS_PATH = os.path.join(CONVERTED_DATA_PATH, 'labels')\n",
    "CONVERTED_TRAIN_TEST_PATH = [os.path.join(CONVERTED_ANNOTATIONS_PATH, 'train'), os.path.join(CONVERTED_ANNOTATIONS_PATH, 'test')]\n",
    "CONVERTED_IMAGES_PATH = os.path.join(CONVERTED_DATA_PATH, 'images')\n",
    "\n",
    "FINAL_DATA_PATH = os.path.join(os.path.dirname(BASE_PATH), 'data/final')\n",
    "YOLO_CONFIG_PATH = os.path.join(os.path.dirname(BASE_PATH), 'core/packages/yolov5/data/my_yolo_config.yaml')\n"
   ]
  },
  {
   "cell_type": "code",
   "execution_count": 5,
   "metadata": {},
   "outputs": [
    {
     "name": "stdout",
     "output_type": "stream",
     "text": [
      "Folder /Users/cobeo/Codes/SchoolWork/COS40007/Assignment5/data/converted/images already exists. Skipping copy.\n"
     ]
    }
   ],
   "source": [
    "annotations_files = get_all_files_in_dir_with_format(ORIGINAL_ANNOTATIONS_PATH, ('.csv',))\n",
    "for key, value in enumerate(annotations_files):\n",
    "    if not check_folder_exists_or_file_exists(CONVERTED_TRAIN_TEST_PATH[key]):\n",
    "        convert_to_yolo(value, CONVERTED_TRAIN_TEST_PATH[key])\n",
    "\n",
    "copy_folder(ORIGINAL_IMAGES_PATH, CONVERTED_IMAGES_PATH)"
   ]
  },
  {
   "cell_type": "code",
   "execution_count": 6,
   "metadata": {},
   "outputs": [
    {
     "name": "stdout",
     "output_type": "stream",
     "text": [
      "Found 813 training images with matching labels\n",
      "Found 209 test images with matching labels\n",
      "Dataset split complete:\n",
      "  - Training: 400 images\n",
      "  - Testing: 40 images\n",
      "  - Validation: 40 images\n"
     ]
    }
   ],
   "source": [
    "train_files, test_files, val_files = split_dataset(CONVERTED_DATA_PATH, FINAL_DATA_PATH)"
   ]
  },
  {
   "cell_type": "code",
   "execution_count": 12,
   "metadata": {},
   "outputs": [],
   "source": [
    "if not check_folder_exists_or_file_exists(YOLO_CONFIG_PATH):\n",
    "    create_file(YOLO_CONFIG_PATH)\n",
    "\n",
    "configurator = YOLOYamlConfig(\n",
    "  path=YOLO_CONFIG_PATH,\n",
    "  root_dir_path=FINAL_DATA_PATH,\n",
    "  train_path=\"images/train\",\n",
    "  val_path=\"images/val\",\n",
    "  test_path=\"images/test\",\n",
    "  names={\n",
    "    0: 'Graffiti',\n",
    "  }\n",
    ")\n",
    "\n",
    "create_yolo_yaml_config(configurator)"
   ]
  },
  {
   "cell_type": "code",
   "execution_count": null,
   "metadata": {},
   "outputs": [],
   "source": [
    "!python packages/yolov5/train.py --device mps --data packages/yolov5/data/my_yolo_config.yaml --weights yolov5m.pt --epochs 20 --batch-size 16 --name iteration1  # from pretrained (recommended)"
   ]
  }
 ],
 "metadata": {
  "kernelspec": {
   "display_name": "cos40007",
   "language": "python",
   "name": "python3"
  },
  "language_info": {
   "codemirror_mode": {
    "name": "ipython",
    "version": 3
   },
   "file_extension": ".py",
   "mimetype": "text/x-python",
   "name": "python",
   "nbconvert_exporter": "python",
   "pygments_lexer": "ipython3",
   "version": "3.12.10"
  }
 },
 "nbformat": 4,
 "nbformat_minor": 2
}
